{
  "nbformat": 4,
  "nbformat_minor": 0,
  "metadata": {
    "colab": {
      "provenance": []
    },
    "kernelspec": {
      "name": "python3",
      "display_name": "Python 3"
    },
    "language_info": {
      "name": "python"
    }
  },
  "cells": [
    {
      "cell_type": "code",
      "execution_count": null,
      "metadata": {
        "id": "wviv9punl7QZ"
      },
      "outputs": [],
      "source": [
        "Patryk Hubar-Kołodziejczyk\n",
        "\n"
      ]
    },
    {
      "cell_type": "code",
      "source": [
        "#1 Zintegrowane środowisko programistyczne: https://pl.wikipedia.org/wiki/Zintegrowane_%C5%9Brodowisko_programistyczne"
      ],
      "metadata": {
        "id": "tB8RGZL4oEH1"
      },
      "execution_count": null,
      "outputs": []
    },
    {
      "cell_type": "code",
      "source": [
        "#2 Notatniki Python - Jupyter Notebook -- Anaconda Navigator https://anaconda.org/anaconda/anaconda-navigator"
      ],
      "metadata": {
        "id": "f49G1ORhooA2"
      },
      "execution_count": null,
      "outputs": []
    },
    {
      "cell_type": "code",
      "source": [
        "#Język Python wykorzystywany jest właściwie we wszystkich segmentach, natomiast obecnie najczęściej używa się w go w Data Science oraz Uczeniu Maszynowym"
      ],
      "metadata": {
        "id": "PQGflDxUpI9A"
      },
      "execution_count": null,
      "outputs": []
    },
    {
      "cell_type": "code",
      "source": [
        "print(\"Hello World\") #funkcja"
      ],
      "metadata": {
        "colab": {
          "base_uri": "https://localhost:8080/"
        },
        "id": "l2xtAf8Vp7z8",
        "outputId": "70078f10-b5b7-4504-e647-9dd7aabb5e75"
      },
      "execution_count": null,
      "outputs": [
        {
          "output_type": "stream",
          "name": "stdout",
          "text": [
            "Hello World\n"
          ]
        }
      ]
    },
    {
      "cell_type": "code",
      "source": [
        "#Funkcja w pythonie składa się z nazwy\n",
        "#np. print\n",
        "#oraz argumentów podanych w nawiasie okrągłym ()\n",
        "#argumenty funkcji\n",
        "#żeby funkcja byla funkcja to ZAWSZE musi miec nazwę oraz nawias okragly\n",
        "#argumenty oddzielamy przecinkami"
      ],
      "metadata": {
        "id": "FFSjy5JmqrFs"
      },
      "execution_count": null,
      "outputs": []
    },
    {
      "cell_type": "code",
      "source": [
        "print(\"a\", \"b\", \"c\")"
      ],
      "metadata": {
        "colab": {
          "base_uri": "https://localhost:8080/"
        },
        "id": "KP7eHYWDr1Gz",
        "outputId": "926b05c0-b21d-44ce-97d4-0da47171084a"
      },
      "execution_count": null,
      "outputs": [
        {
          "output_type": "stream",
          "name": "stdout",
          "text": [
            "a b c\n"
          ]
        }
      ]
    },
    {
      "cell_type": "code",
      "source": [
        "print()\n",
        "len()\n"
      ],
      "metadata": {
        "id": "BCpJ5Z7irOi_"
      },
      "execution_count": null,
      "outputs": []
    },
    {
      "cell_type": "code",
      "source": [
        "#Procesor:\n",
        "#Bramki logiczne - służa do manipulacji przeplywem prądu\n",
        "#KOD BINARNY - 1 oraz 0 - ciąg zer i jedynek\n",
        "#Kazda informacja cyfrowa moze byc zapisana w postaci dowolnego ciagu zer i jedynek\n",
        "\n",
        "# 1 prąd płynie\n",
        "# 0 prad nie plynie\n",
        "\n",
        "#1101100110110000011010111111"
      ],
      "metadata": {
        "id": "4sUvQtDDsw7t"
      },
      "execution_count": null,
      "outputs": []
    },
    {
      "cell_type": "code",
      "source": [
        "#Liczby, napisy oraz dane typu Boolean\n",
        "\n",
        "#Liczby\n",
        "\n",
        "#12 - liczba całkowita\n",
        "#Liczby calkowite w pythonie nazywają się Integer (int)\n",
        "\n",
        "12 + 12"
      ],
      "metadata": {
        "colab": {
          "base_uri": "https://localhost:8080/"
        },
        "id": "XMEI07aqv0F6",
        "outputId": "3b1ada92-7329-4355-888d-c72de582b12a"
      },
      "execution_count": null,
      "outputs": [
        {
          "output_type": "execute_result",
          "data": {
            "text/plain": [
              "24"
            ]
          },
          "metadata": {},
          "execution_count": 5
        }
      ]
    },
    {
      "cell_type": "code",
      "source": [
        "24 - 3"
      ],
      "metadata": {
        "colab": {
          "base_uri": "https://localhost:8080/"
        },
        "id": "o4nYiPw0wbAE",
        "outputId": "00a5967b-2e4c-4c65-ec95-806b43bf0b0b"
      },
      "execution_count": null,
      "outputs": [
        {
          "output_type": "execute_result",
          "data": {
            "text/plain": [
              "21"
            ]
          },
          "metadata": {},
          "execution_count": 6
        }
      ]
    },
    {
      "cell_type": "code",
      "source": [
        "#Liczby zmiennoprzecinkowe nazywamy danymi typu FLOAT\n",
        "\n",
        "12.8\n",
        "12.6765654"
      ],
      "metadata": {
        "colab": {
          "base_uri": "https://localhost:8080/"
        },
        "id": "Z3s9XSx8whS1",
        "outputId": "c6bde5a7-597a-4dc6-e54e-5b5a3f382759"
      },
      "execution_count": null,
      "outputs": [
        {
          "output_type": "execute_result",
          "data": {
            "text/plain": [
              "12.8"
            ]
          },
          "metadata": {},
          "execution_count": 7
        }
      ]
    },
    {
      "cell_type": "code",
      "source": [
        "12.5 - 12.5"
      ],
      "metadata": {
        "colab": {
          "base_uri": "https://localhost:8080/"
        },
        "id": "9xvk4hA1xERG",
        "outputId": "4cd432f1-7f3f-4d00-fa2b-40b799c377de"
      },
      "execution_count": null,
      "outputs": [
        {
          "output_type": "execute_result",
          "data": {
            "text/plain": [
              "0.0"
            ]
          },
          "metadata": {},
          "execution_count": 8
        }
      ]
    },
    {
      "cell_type": "code",
      "source": [
        "10 + 10"
      ],
      "metadata": {
        "colab": {
          "base_uri": "https://localhost:8080/"
        },
        "id": "sX3zuBJnxMRp",
        "outputId": "ad334f63-2a96-4268-9378-dc7d960f2ee4"
      },
      "execution_count": null,
      "outputs": [
        {
          "output_type": "execute_result",
          "data": {
            "text/plain": [
              "20"
            ]
          },
          "metadata": {},
          "execution_count": 9
        }
      ]
    },
    {
      "cell_type": "code",
      "source": [
        "12.5 + 10.7"
      ],
      "metadata": {
        "colab": {
          "base_uri": "https://localhost:8080/"
        },
        "id": "yGF59ENvxVZz",
        "outputId": "fa865332-3e20-4dae-b303-1f4ebb326059"
      },
      "execution_count": null,
      "outputs": [
        {
          "output_type": "execute_result",
          "data": {
            "text/plain": [
              "23.2"
            ]
          },
          "metadata": {},
          "execution_count": 10
        }
      ]
    },
    {
      "cell_type": "code",
      "source": [
        "12 + 12.5"
      ],
      "metadata": {
        "colab": {
          "base_uri": "https://localhost:8080/"
        },
        "id": "C5enPJ_AxgKH",
        "outputId": "7ad34f1e-bef6-481f-c0f4-c45fcbfa6786"
      },
      "execution_count": null,
      "outputs": [
        {
          "output_type": "execute_result",
          "data": {
            "text/plain": [
              "24.5"
            ]
          },
          "metadata": {},
          "execution_count": 11
        }
      ]
    },
    {
      "cell_type": "code",
      "source": [
        "12 + 12.0"
      ],
      "metadata": {
        "colab": {
          "base_uri": "https://localhost:8080/"
        },
        "id": "KLkWUb0Sxsa8",
        "outputId": "c9cf44af-40b6-4322-f164-1b6b3160993b"
      },
      "execution_count": null,
      "outputs": [
        {
          "output_type": "execute_result",
          "data": {
            "text/plain": [
              "24.0"
            ]
          },
          "metadata": {},
          "execution_count": 12
        }
      ]
    },
    {
      "cell_type": "code",
      "source": [
        "((12 - 2) + 8.5) / 12.5"
      ],
      "metadata": {
        "colab": {
          "base_uri": "https://localhost:8080/"
        },
        "id": "oWFz0AxEx31h",
        "outputId": "b75842f4-9388-4271-bfe7-e7dab9da7ae9"
      },
      "execution_count": null,
      "outputs": [
        {
          "output_type": "execute_result",
          "data": {
            "text/plain": [
              "1.48"
            ]
          },
          "metadata": {},
          "execution_count": 19
        }
      ]
    },
    {
      "cell_type": "code",
      "source": [],
      "metadata": {
        "id": "t9UziQpzyyd_"
      },
      "execution_count": null,
      "outputs": []
    },
    {
      "cell_type": "code",
      "source": [],
      "metadata": {
        "id": "IophEUvSyybW"
      },
      "execution_count": null,
      "outputs": []
    },
    {
      "cell_type": "code",
      "source": [],
      "metadata": {
        "id": "LbczscaByyY8"
      },
      "execution_count": null,
      "outputs": []
    },
    {
      "cell_type": "code",
      "source": [],
      "metadata": {
        "id": "0ttiTYV2yyWq"
      },
      "execution_count": null,
      "outputs": []
    },
    {
      "cell_type": "code",
      "source": [
        "12 + 12"
      ],
      "metadata": {
        "colab": {
          "base_uri": "https://localhost:8080/"
        },
        "id": "XeCBD2ZnyMKA",
        "outputId": "3a04ac2f-4c51-427c-9ad4-e1864690bf28"
      },
      "execution_count": null,
      "outputs": [
        {
          "output_type": "execute_result",
          "data": {
            "text/plain": [
              "24"
            ]
          },
          "metadata": {},
          "execution_count": 14
        }
      ]
    },
    {
      "cell_type": "code",
      "source": [
        "12 - 4"
      ],
      "metadata": {
        "colab": {
          "base_uri": "https://localhost:8080/"
        },
        "id": "lBJqdkoqyVFj",
        "outputId": "2bf7bb13-1e37-4cb8-a7d0-c464528dfa8b"
      },
      "execution_count": null,
      "outputs": [
        {
          "output_type": "execute_result",
          "data": {
            "text/plain": [
              "8"
            ]
          },
          "metadata": {},
          "execution_count": 15
        }
      ]
    },
    {
      "cell_type": "code",
      "source": [
        "8 * 9"
      ],
      "metadata": {
        "colab": {
          "base_uri": "https://localhost:8080/"
        },
        "id": "qlaDrmzIyWXX",
        "outputId": "3e08a6ca-24d1-4b7d-c558-ff22038b17fb"
      },
      "execution_count": null,
      "outputs": [
        {
          "output_type": "execute_result",
          "data": {
            "text/plain": [
              "72"
            ]
          },
          "metadata": {},
          "execution_count": 16
        }
      ]
    },
    {
      "cell_type": "code",
      "source": [
        "45 / 98"
      ],
      "metadata": {
        "colab": {
          "base_uri": "https://localhost:8080/"
        },
        "id": "ixLa-QTcyY62",
        "outputId": "fc046b1a-5e47-410b-bd6b-5657fd157285"
      },
      "execution_count": null,
      "outputs": [
        {
          "output_type": "execute_result",
          "data": {
            "text/plain": [
              "0.45918367346938777"
            ]
          },
          "metadata": {},
          "execution_count": 21
        }
      ]
    },
    {
      "cell_type": "code",
      "source": [
        "8 / 2"
      ],
      "metadata": {
        "colab": {
          "base_uri": "https://localhost:8080/"
        },
        "id": "9ZmTKzwzzNS9",
        "outputId": "b8e92260-5599-40bd-8fe1-b82f0571a74b"
      },
      "execution_count": null,
      "outputs": [
        {
          "output_type": "execute_result",
          "data": {
            "text/plain": [
              "4.0"
            ]
          },
          "metadata": {},
          "execution_count": 23
        }
      ]
    },
    {
      "cell_type": "code",
      "source": [
        "8 ** 8"
      ],
      "metadata": {
        "colab": {
          "base_uri": "https://localhost:8080/"
        },
        "id": "DmjqOPPJzpDN",
        "outputId": "ffdcf82b-b890-4d0e-ed4d-164869c7f86b"
      },
      "execution_count": null,
      "outputs": [
        {
          "output_type": "execute_result",
          "data": {
            "text/plain": [
              "16777216"
            ]
          },
          "metadata": {},
          "execution_count": 24
        }
      ]
    },
    {
      "cell_type": "code",
      "source": [
        "#STRING (str)\n",
        "\n",
        "#napisy\n",
        "\n",
        "\"Patryk\"\n",
        "\" \"\n",
        "\"\"\n",
        "\"Ala ma kota\"\n",
        "\"12\"\n",
        "\"!\"\n",
        "\"12.5\"\n",
        "\"12 + 12\""
      ],
      "metadata": {
        "id": "kxCUfX8D0Hx7"
      },
      "execution_count": null,
      "outputs": []
    },
    {
      "cell_type": "code",
      "source": [
        "print(\"12 + 12\")"
      ],
      "metadata": {
        "colab": {
          "base_uri": "https://localhost:8080/"
        },
        "id": "DdUK-PLA0luU",
        "outputId": "7ba5ac9d-b2b8-44af-a030-46d7e7637cc9"
      },
      "execution_count": null,
      "outputs": [
        {
          "output_type": "stream",
          "name": "stdout",
          "text": [
            "12 + 12\n"
          ]
        }
      ]
    },
    {
      "cell_type": "code",
      "source": [
        "type(\"\")"
      ],
      "metadata": {
        "colab": {
          "base_uri": "https://localhost:8080/"
        },
        "id": "1bjXzeki0w4Z",
        "outputId": "656a4184-61d0-46ea-dc31-ac75568c321d"
      },
      "execution_count": null,
      "outputs": [
        {
          "output_type": "execute_result",
          "data": {
            "text/plain": [
              "str"
            ]
          },
          "metadata": {},
          "execution_count": 28
        }
      ]
    },
    {
      "cell_type": "code",
      "source": [
        "\"12\" + \"12\""
      ],
      "metadata": {
        "colab": {
          "base_uri": "https://localhost:8080/",
          "height": 36
        },
        "id": "vIGlt3kM1H0i",
        "outputId": "54cbd758-ed70-40d9-f8a8-e2ec52e179be"
      },
      "execution_count": null,
      "outputs": [
        {
          "output_type": "execute_result",
          "data": {
            "text/plain": [
              "'1212'"
            ],
            "application/vnd.google.colaboratory.intrinsic+json": {
              "type": "string"
            }
          },
          "metadata": {},
          "execution_count": 29
        }
      ]
    },
    {
      "cell_type": "code",
      "source": [
        "#Boolean (bool)\n",
        "\n",
        "True\n",
        "False\n",
        "\n",
        "true\n",
        "false\n",
        "\n",
        "Prawda"
      ],
      "metadata": {
        "id": "sZl377AL1P76"
      },
      "execution_count": null,
      "outputs": []
    },
    {
      "cell_type": "code",
      "source": [
        "#Operatory porównania\n",
        "\n",
        "12 > 15\n",
        "12 < 15\n",
        "12 == 15\n",
        "12 != 15\n",
        "12 <= 15\n",
        "12 >= 15"
      ],
      "metadata": {
        "colab": {
          "base_uri": "https://localhost:8080/"
        },
        "id": "ORc5NTwJ4M9S",
        "outputId": "f27b1299-5fe4-414a-d289-07a91e8ff19a"
      },
      "execution_count": null,
      "outputs": [
        {
          "output_type": "execute_result",
          "data": {
            "text/plain": [
              "False"
            ]
          },
          "metadata": {},
          "execution_count": 35
        }
      ]
    },
    {
      "cell_type": "code",
      "source": [
        "#Instrukcje warunkowe\n",
        "\n",
        "#if - jeżeli\n",
        "#elif - else if - jeżeli inaczej\n",
        "#else - w pozostałym przypadku ktory nie zostal opisany\n",
        "\n",
        "#każda instrukcja warunkowa rozpoczyna się od słowa kluczowego if oraz if występuje jednokrotnie na pierwszej pozycji instrukcji warunkowej\n",
        "\n",
        "if 12 > 15:\n",
        "  print(\"WSB\")\n",
        "  print(\"AAA\")\n",
        "elif 12 == 15:\n",
        "  print(\"BLABLA\")\n",
        "elif 12 < 15:\n",
        "  print(\"12 jest mniejsze od 15\")\n",
        "elif 15 == 15:\n",
        "  print(\"15 jest rowne 15\")\n",
        "elif 12 >= 15:\n",
        "  print(\"bbb\")\n",
        "else:\n",
        "  print(\"zaden warunek nie byl spelniony\")\n",
        "\n",
        "\n",
        "#if musi byc zawsze, elif oraz else nie musza wystepowac jesli nie mamy takiej potrzeby\n",
        "#elif wystepuje tyle razy ile mamy ochote i zawsze występuje po if oraz przed else"
      ],
      "metadata": {
        "colab": {
          "base_uri": "https://localhost:8080/"
        },
        "id": "h-DPhyCP5OC5",
        "outputId": "c1f1fa85-4fac-4d61-d09d-d2785c4ce0a5"
      },
      "execution_count": null,
      "outputs": [
        {
          "output_type": "stream",
          "name": "stdout",
          "text": [
            "12 jest mniejsze od 15\n"
          ]
        }
      ]
    },
    {
      "cell_type": "code",
      "source": [
        "#zagnieżdżenie\n",
        "\n",
        "if 1 == 1:\n",
        "  print(\"1 jest rowne 1\")\n",
        "  if 2 > 1:\n",
        "    print(\"2 jest wieksze od 1\")\n",
        "  elif 2 < 1:\n",
        "    print(\"\")\n",
        "  else:\n",
        "    print(\"else\")\n",
        "elif 1 != 1:\n",
        "  print(\"\")\n",
        "  if 1:\n",
        "    print(\"\")\n",
        "\n",
        "#wcięcie:\n",
        "if:\n",
        "  if:\n",
        "#blok kodu\n"
      ],
      "metadata": {
        "colab": {
          "base_uri": "https://localhost:8080/"
        },
        "id": "Hv5xvekw_Z39",
        "outputId": "917bcc2d-1cc7-47c0-918e-d63e73c41cff"
      },
      "execution_count": null,
      "outputs": [
        {
          "output_type": "stream",
          "name": "stdout",
          "text": [
            "1 jest rowne 1\n",
            "2 jest wieksze od 1\n"
          ]
        }
      ]
    },
    {
      "cell_type": "code",
      "source": [
        "12 > 15"
      ],
      "metadata": {
        "colab": {
          "base_uri": "https://localhost:8080/"
        },
        "id": "aXv_8Zwk81MD",
        "outputId": "186fcd9e-9c02-4add-da72-239599aa6634"
      },
      "execution_count": null,
      "outputs": [
        {
          "output_type": "execute_result",
          "data": {
            "text/plain": [
              "False"
            ]
          },
          "metadata": {},
          "execution_count": 44
        }
      ]
    },
    {
      "cell_type": "code",
      "source": [
        "12 == 15"
      ],
      "metadata": {
        "colab": {
          "base_uri": "https://localhost:8080/"
        },
        "id": "hZ03Jajx83n_",
        "outputId": "05f11b32-3613-493d-96b9-b634a9996381"
      },
      "execution_count": null,
      "outputs": [
        {
          "output_type": "execute_result",
          "data": {
            "text/plain": [
              "False"
            ]
          },
          "metadata": {},
          "execution_count": 45
        }
      ]
    },
    {
      "cell_type": "code",
      "source": [
        "12 >= 15"
      ],
      "metadata": {
        "colab": {
          "base_uri": "https://localhost:8080/"
        },
        "id": "ScYXS-3N841p",
        "outputId": "aaea8280-9439-4f48-deff-c5e616554cda"
      },
      "execution_count": null,
      "outputs": [
        {
          "output_type": "execute_result",
          "data": {
            "text/plain": [
              "False"
            ]
          },
          "metadata": {},
          "execution_count": 48
        }
      ]
    }
  ]
}