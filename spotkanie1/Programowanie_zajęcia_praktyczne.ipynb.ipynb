{
  "nbformat": 4,
  "nbformat_minor": 0,
  "metadata": {
    "colab": {
      "provenance": []
    },
    "kernelspec": {
      "name": "python3",
      "display_name": "Python 3"
    },
    "language_info": {
      "name": "python"
    }
  },
  "cells": [
    {
      "cell_type": "code",
      "execution_count": null,
      "metadata": {
        "colab": {
          "base_uri": "https://localhost:8080/"
        },
        "id": "7YU7YCX6bJWO",
        "outputId": "6a31a05c-662f-44a9-883c-3a5ce710137c"
      },
      "outputs": [
        {
          "output_type": "stream",
          "name": "stdout",
          "text": [
            "Hello World\n"
          ]
        }
      ],
      "source": [
        "print(\"Hello World\") #każda funkcja składa się z:\n",
        "#1 nazwy funkcji - w tym przypadku print\n",
        "#2 argumentów funkcji podawanych w nawiasie okrągłym bezposrednio za nazwa"
      ]
    },
    {
      "cell_type": "code",
      "source": [
        "#Liczby\n",
        "\n",
        "#liczby całkowite -- integer (int)\n",
        "12\n",
        "12312525\n",
        "\n",
        "#liczby zmiennoprzecinkowe - float\n",
        "12.5\n",
        "123123.125268909\n",
        "\n",
        "#Napisy - string (str)\n",
        "\n",
        "\"Patryk\"\n",
        "\"Konie na nowym swiecie\"\n",
        "\"12\"\n",
        "\n",
        "#Boolean (bool)\n",
        "\n",
        "True\n",
        "False\n",
        "\n",
        "#Python jest case sensitive -- wielkosc liter ma znaczenie"
      ],
      "metadata": {
        "id": "dvF_LVxldXie"
      },
      "execution_count": null,
      "outputs": []
    },
    {
      "cell_type": "code",
      "source": [
        "print(1 + 1)"
      ],
      "metadata": {
        "colab": {
          "base_uri": "https://localhost:8080/"
        },
        "id": "MIhci35UeFb6",
        "outputId": "fcae5749-9e32-46fd-e137-b20e79d81547"
      },
      "execution_count": null,
      "outputs": [
        {
          "output_type": "stream",
          "name": "stdout",
          "text": [
            "2\n"
          ]
        }
      ]
    },
    {
      "cell_type": "code",
      "source": [
        "1 + 1"
      ],
      "metadata": {
        "colab": {
          "base_uri": "https://localhost:8080/"
        },
        "id": "oIOSmwhBeDsa",
        "outputId": "b2d4fda6-29fd-418d-e21e-62fe66f5b6ef"
      },
      "execution_count": null,
      "outputs": [
        {
          "output_type": "execute_result",
          "data": {
            "text/plain": [
              "2"
            ]
          },
          "metadata": {},
          "execution_count": 5
        }
      ]
    },
    {
      "cell_type": "code",
      "source": [
        "1 - 1"
      ],
      "metadata": {
        "colab": {
          "base_uri": "https://localhost:8080/"
        },
        "id": "LNCEdpYYeRpi",
        "outputId": "272e48bc-6d1e-452b-f006-c9a5b55c8acd"
      },
      "execution_count": null,
      "outputs": [
        {
          "output_type": "execute_result",
          "data": {
            "text/plain": [
              "0"
            ]
          },
          "metadata": {},
          "execution_count": 6
        }
      ]
    },
    {
      "cell_type": "code",
      "source": [
        "2 * 2"
      ],
      "metadata": {
        "colab": {
          "base_uri": "https://localhost:8080/"
        },
        "id": "S20fq46QeSfz",
        "outputId": "37bbf988-d849-458d-dda3-447a6e2e8117"
      },
      "execution_count": null,
      "outputs": [
        {
          "output_type": "execute_result",
          "data": {
            "text/plain": [
              "4"
            ]
          },
          "metadata": {},
          "execution_count": 7
        }
      ]
    },
    {
      "cell_type": "code",
      "source": [
        "1 + 1.5"
      ],
      "metadata": {
        "colab": {
          "base_uri": "https://localhost:8080/"
        },
        "id": "3qdoItKseZwq",
        "outputId": "06221e3d-8d8d-45f9-da3b-c54615f6063a"
      },
      "execution_count": null,
      "outputs": [
        {
          "output_type": "execute_result",
          "data": {
            "text/plain": [
              "2.5"
            ]
          },
          "metadata": {},
          "execution_count": 9
        }
      ]
    },
    {
      "cell_type": "code",
      "source": [
        "2 / 2"
      ],
      "metadata": {
        "colab": {
          "base_uri": "https://localhost:8080/"
        },
        "id": "tmeKRnJDeT6k",
        "outputId": "8919eed4-a454-482a-f29a-3724ecc50379"
      },
      "execution_count": null,
      "outputs": [
        {
          "output_type": "execute_result",
          "data": {
            "text/plain": [
              "1.0"
            ]
          },
          "metadata": {},
          "execution_count": 11
        }
      ]
    },
    {
      "cell_type": "code",
      "source": [
        "2 ** 2"
      ],
      "metadata": {
        "colab": {
          "base_uri": "https://localhost:8080/"
        },
        "id": "C__ImQauesXy",
        "outputId": "fc878c75-a46c-4f18-dd7e-4e50d0263775"
      },
      "execution_count": null,
      "outputs": [
        {
          "output_type": "execute_result",
          "data": {
            "text/plain": [
              "4"
            ]
          },
          "metadata": {},
          "execution_count": 12
        }
      ]
    },
    {
      "cell_type": "code",
      "source": [
        "2 % 2"
      ],
      "metadata": {
        "colab": {
          "base_uri": "https://localhost:8080/"
        },
        "id": "LQrV8z0yet3C",
        "outputId": "189319e2-3a8c-4e38-d380-5f8f070f7efc"
      },
      "execution_count": null,
      "outputs": [
        {
          "output_type": "execute_result",
          "data": {
            "text/plain": [
              "0"
            ]
          },
          "metadata": {},
          "execution_count": 13
        }
      ]
    },
    {
      "cell_type": "code",
      "source": [
        "type(True)"
      ],
      "metadata": {
        "colab": {
          "base_uri": "https://localhost:8080/"
        },
        "id": "f445goYyex_L",
        "outputId": "b7e4d0a9-8545-419a-facd-aeca55d40c08"
      },
      "execution_count": null,
      "outputs": [
        {
          "output_type": "execute_result",
          "data": {
            "text/plain": [
              "bool"
            ]
          },
          "metadata": {},
          "execution_count": 19
        }
      ]
    },
    {
      "cell_type": "code",
      "source": [
        "#Zmienne\n",
        "\n",
        "imie = \"Patryk\"\n",
        "\n",
        "print(imie)"
      ],
      "metadata": {
        "colab": {
          "base_uri": "https://localhost:8080/"
        },
        "id": "IQC8Njh8e9gS",
        "outputId": "da1b8897-1acd-4dbd-fb62-f77f5dc6906e"
      },
      "execution_count": null,
      "outputs": [
        {
          "output_type": "stream",
          "name": "stdout",
          "text": [
            "Patryk\n"
          ]
        }
      ]
    },
    {
      "cell_type": "code",
      "source": [
        "wiek = 32"
      ],
      "metadata": {
        "id": "nHAFqD9tf5yL"
      },
      "execution_count": null,
      "outputs": []
    },
    {
      "cell_type": "code",
      "source": [
        "print(wiek)"
      ],
      "metadata": {
        "colab": {
          "base_uri": "https://localhost:8080/"
        },
        "id": "gxyKqz1uhM9D",
        "outputId": "a38b1ace-96d7-4914-ea8e-267bb4100327"
      },
      "execution_count": null,
      "outputs": [
        {
          "output_type": "stream",
          "name": "stdout",
          "text": [
            "32\n"
          ]
        }
      ]
    },
    {
      "cell_type": "code",
      "source": [
        "nazwisko = \"Hubar\""
      ],
      "metadata": {
        "id": "Bov2NuUbhSqW"
      },
      "execution_count": null,
      "outputs": []
    },
    {
      "cell_type": "code",
      "source": [
        "numer telefonu = \"123456778\" #ŹLE"
      ],
      "metadata": {
        "colab": {
          "base_uri": "https://localhost:8080/",
          "height": 108
        },
        "id": "7DtNlvx3hluj",
        "outputId": "1292b78b-3241-4dfc-b2ac-4bc36b30d212"
      },
      "execution_count": null,
      "outputs": [
        {
          "output_type": "error",
          "ename": "SyntaxError",
          "evalue": "invalid syntax (ipython-input-1763643532.py, line 1)",
          "traceback": [
            "\u001b[0;36m  File \u001b[0;32m\"/tmp/ipython-input-1763643532.py\"\u001b[0;36m, line \u001b[0;32m1\u001b[0m\n\u001b[0;31m    numer telefonu = \"123456778\"\u001b[0m\n\u001b[0m          ^\u001b[0m\n\u001b[0;31mSyntaxError\u001b[0m\u001b[0;31m:\u001b[0m invalid syntax\n"
          ]
        }
      ]
    },
    {
      "cell_type": "code",
      "source": [
        "#Zmienne wielowyrazowe\n",
        "\n",
        "#CamelCase\n",
        "\n",
        "numerTelefonu = \"123124125\"\n",
        "\n",
        "#snake_case\n",
        "\n",
        "numer_telefonu = \"13213123\"\n",
        "\n",
        "#do nazw nie uzywamy znakow specjalnych\n",
        "\n",
        "#nazwy nie moga skladac sie tylko z cyfr\n",
        "\n",
        "#12 = \"Patryk\" ZLE\n",
        "\n",
        "#nazwy nie moga zaczynac sie cyfra\n",
        "\n",
        "#1imie = \"Patryk\" ZLE\n",
        "\n",
        "imie2 = \"Patryk2\" # to jest ok\n",
        "\n",
        "#Python jest case sensitive\n",
        "imie = \"Patryk\"\n",
        "IMIE = \"Patryk\"\n",
        "#to sa dwie rozne zmienne\n",
        "\n",
        "#print = \"Patryk\" #ABSOLUTNIE NIE - nie nazwywamy zmiennych nazwami funkcji\n",
        "\n",
        "#światło = \"patryk\" tak nie robimy tez"
      ],
      "metadata": {
        "id": "Pq92PGh_hxCz"
      },
      "execution_count": null,
      "outputs": []
    },
    {
      "cell_type": "code",
      "source": [
        "#Operatory porównania\n",
        "\n",
        "x = 12\n",
        "y = 18"
      ],
      "metadata": {
        "id": "X4RVEnjujZvc"
      },
      "execution_count": null,
      "outputs": []
    },
    {
      "cell_type": "code",
      "source": [
        "x > y"
      ],
      "metadata": {
        "colab": {
          "base_uri": "https://localhost:8080/"
        },
        "id": "kxY8qplUkB98",
        "outputId": "fbef7d80-9d34-4249-ba3b-7e080186b826"
      },
      "execution_count": null,
      "outputs": [
        {
          "output_type": "execute_result",
          "data": {
            "text/plain": [
              "False"
            ]
          },
          "metadata": {},
          "execution_count": 40
        }
      ]
    },
    {
      "cell_type": "code",
      "source": [
        "x < y"
      ],
      "metadata": {
        "colab": {
          "base_uri": "https://localhost:8080/"
        },
        "id": "zps1gtnRkROk",
        "outputId": "ce3005fb-6576-48d4-e320-371bbd1a72e2"
      },
      "execution_count": null,
      "outputs": [
        {
          "output_type": "execute_result",
          "data": {
            "text/plain": [
              "True"
            ]
          },
          "metadata": {},
          "execution_count": 41
        }
      ]
    },
    {
      "cell_type": "code",
      "source": [
        "#x = y #nadpisanie zmiennej"
      ],
      "metadata": {
        "id": "byR3ZR2RkScD"
      },
      "execution_count": null,
      "outputs": []
    },
    {
      "cell_type": "code",
      "source": [
        "imie = \"Patryk\"\n",
        "imie = \"Ola\""
      ],
      "metadata": {
        "id": "iTW1dxtnkauM"
      },
      "execution_count": null,
      "outputs": []
    },
    {
      "cell_type": "code",
      "source": [
        "print(imie)"
      ],
      "metadata": {
        "colab": {
          "base_uri": "https://localhost:8080/"
        },
        "id": "wa-ZSa1Bkd3c",
        "outputId": "6fff8587-608b-4c88-f81d-122d3359eee0"
      },
      "execution_count": null,
      "outputs": [
        {
          "output_type": "stream",
          "name": "stdout",
          "text": [
            "Ola\n"
          ]
        }
      ]
    },
    {
      "cell_type": "code",
      "source": [
        "x == y"
      ],
      "metadata": {
        "colab": {
          "base_uri": "https://localhost:8080/"
        },
        "id": "dE9IFbAClDvT",
        "outputId": "3d4d5d13-41ee-451c-80f1-b992736dc155"
      },
      "execution_count": null,
      "outputs": [
        {
          "output_type": "execute_result",
          "data": {
            "text/plain": [
              "False"
            ]
          },
          "metadata": {},
          "execution_count": 50
        }
      ]
    },
    {
      "cell_type": "code",
      "source": [
        "x"
      ],
      "metadata": {
        "colab": {
          "base_uri": "https://localhost:8080/"
        },
        "id": "NkxbQzgdlOOI",
        "outputId": "1a6e8e8b-01c6-4e72-ad6a-a3e78e0409e5"
      },
      "execution_count": null,
      "outputs": [
        {
          "output_type": "execute_result",
          "data": {
            "text/plain": [
              "18"
            ]
          },
          "metadata": {},
          "execution_count": 47
        }
      ]
    },
    {
      "cell_type": "code",
      "source": [
        "y"
      ],
      "metadata": {
        "colab": {
          "base_uri": "https://localhost:8080/"
        },
        "id": "4h7vzLGHlOsD",
        "outputId": "c85d9826-7502-43bf-85b8-c0482e572008"
      },
      "execution_count": null,
      "outputs": [
        {
          "output_type": "execute_result",
          "data": {
            "text/plain": [
              "18"
            ]
          },
          "metadata": {},
          "execution_count": 48
        }
      ]
    },
    {
      "cell_type": "code",
      "source": [
        "x != y"
      ],
      "metadata": {
        "colab": {
          "base_uri": "https://localhost:8080/"
        },
        "id": "vhoY6yV1lH1U",
        "outputId": "1e7bea44-56e8-47a0-bd9b-35d04fe152b3"
      },
      "execution_count": null,
      "outputs": [
        {
          "output_type": "execute_result",
          "data": {
            "text/plain": [
              "True"
            ]
          },
          "metadata": {},
          "execution_count": 51
        }
      ]
    },
    {
      "cell_type": "code",
      "source": [
        "x >= y"
      ],
      "metadata": {
        "colab": {
          "base_uri": "https://localhost:8080/"
        },
        "id": "oaRvLKnNlqRE",
        "outputId": "d71c8a90-03fe-4423-9c9d-bc1a176ebe0b"
      },
      "execution_count": null,
      "outputs": [
        {
          "output_type": "execute_result",
          "data": {
            "text/plain": [
              "False"
            ]
          },
          "metadata": {},
          "execution_count": 52
        }
      ]
    },
    {
      "cell_type": "code",
      "source": [
        "x <= y"
      ],
      "metadata": {
        "colab": {
          "base_uri": "https://localhost:8080/"
        },
        "id": "pPReiawFlrwf",
        "outputId": "ba46e396-2ebe-4a95-a1b0-2b9bcdbd13b9"
      },
      "execution_count": null,
      "outputs": [
        {
          "output_type": "execute_result",
          "data": {
            "text/plain": [
              "True"
            ]
          },
          "metadata": {},
          "execution_count": 56
        }
      ]
    },
    {
      "cell_type": "code",
      "source": [
        "print(ciag_liczbowy[2])"
      ],
      "metadata": {
        "colab": {
          "base_uri": "https://localhost:8080/"
        },
        "id": "V5Na4f7Kmaiv",
        "outputId": "66212d3b-962b-46ec-83b7-d10ac84afed2"
      },
      "execution_count": null,
      "outputs": [
        {
          "output_type": "stream",
          "name": "stdout",
          "text": [
            "3\n"
          ]
        }
      ]
    },
    {
      "cell_type": "code",
      "source": [
        "print(ciag_liczbowy[-1])"
      ],
      "metadata": {
        "colab": {
          "base_uri": "https://localhost:8080/"
        },
        "id": "Ix-wJvHxnsIM",
        "outputId": "e7c511e0-f1cd-47bb-912c-67731a7142b7"
      },
      "execution_count": null,
      "outputs": [
        {
          "output_type": "stream",
          "name": "stdout",
          "text": [
            "5\n"
          ]
        }
      ]
    },
    {
      "cell_type": "code",
      "source": [
        "#P A T R Y K\n",
        "#0 1 2 3 4 5\n",
        "#-6 -5 -4 -3 -2 -1"
      ],
      "metadata": {
        "id": "YYLqHKqRn7RH"
      },
      "execution_count": null,
      "outputs": []
    },
    {
      "cell_type": "code",
      "source": [
        "#String indexing\n",
        "#String slicing\n",
        "\n",
        "ciag_liczbowy = \"12345\""
      ],
      "metadata": {
        "id": "bTFzlI7fmBqs"
      },
      "execution_count": null,
      "outputs": []
    },
    {
      "cell_type": "code",
      "source": [
        "ciag_liczbowy[0:2]"
      ],
      "metadata": {
        "colab": {
          "base_uri": "https://localhost:8080/",
          "height": 35
        },
        "id": "_z6bKiwtoJOF",
        "outputId": "5981d44c-1ab3-4bac-9013-b2141586d854"
      },
      "execution_count": null,
      "outputs": [
        {
          "output_type": "execute_result",
          "data": {
            "text/plain": [
              "'12'"
            ],
            "application/vnd.google.colaboratory.intrinsic+json": {
              "type": "string"
            }
          },
          "metadata": {},
          "execution_count": 75
        }
      ]
    },
    {
      "cell_type": "code",
      "source": [
        "ciag_liczbowy[2:5]"
      ],
      "metadata": {
        "colab": {
          "base_uri": "https://localhost:8080/",
          "height": 35
        },
        "id": "B3zHiDU_ohpM",
        "outputId": "c150584d-7205-4e42-aad8-28312b87fce7"
      },
      "execution_count": null,
      "outputs": [
        {
          "output_type": "execute_result",
          "data": {
            "text/plain": [
              "'345'"
            ],
            "application/vnd.google.colaboratory.intrinsic+json": {
              "type": "string"
            }
          },
          "metadata": {},
          "execution_count": 76
        }
      ]
    },
    {
      "cell_type": "code",
      "source": [
        "ciag_liczbowy[1:]"
      ],
      "metadata": {
        "colab": {
          "base_uri": "https://localhost:8080/",
          "height": 35
        },
        "id": "a8zaMOgIolLG",
        "outputId": "8db5f5ea-2c9c-49a4-853d-77537c0237eb"
      },
      "execution_count": null,
      "outputs": [
        {
          "output_type": "execute_result",
          "data": {
            "text/plain": [
              "'2345'"
            ],
            "application/vnd.google.colaboratory.intrinsic+json": {
              "type": "string"
            }
          },
          "metadata": {},
          "execution_count": 77
        }
      ]
    },
    {
      "cell_type": "code",
      "source": [
        "ciag_liczbowy[:4]"
      ],
      "metadata": {
        "colab": {
          "base_uri": "https://localhost:8080/",
          "height": 35
        },
        "id": "4EIs21pho3ev",
        "outputId": "584ca533-072a-4b1c-89d2-9633774b10bf"
      },
      "execution_count": null,
      "outputs": [
        {
          "output_type": "execute_result",
          "data": {
            "text/plain": [
              "'1234'"
            ],
            "application/vnd.google.colaboratory.intrinsic+json": {
              "type": "string"
            }
          },
          "metadata": {},
          "execution_count": 78
        }
      ]
    },
    {
      "cell_type": "code",
      "source": [
        "ciag_liczbowy[:]"
      ],
      "metadata": {
        "colab": {
          "base_uri": "https://localhost:8080/",
          "height": 35
        },
        "id": "cm1M9v22o8Vk",
        "outputId": "0020d25a-96fe-434b-95af-58abc0576c61"
      },
      "execution_count": null,
      "outputs": [
        {
          "output_type": "execute_result",
          "data": {
            "text/plain": [
              "'12345'"
            ],
            "application/vnd.google.colaboratory.intrinsic+json": {
              "type": "string"
            }
          },
          "metadata": {},
          "execution_count": 79
        }
      ]
    },
    {
      "cell_type": "code",
      "source": [
        "ciag_liczbowy[-3:-1]"
      ],
      "metadata": {
        "colab": {
          "base_uri": "https://localhost:8080/",
          "height": 35
        },
        "id": "4rBc9qhHpAGt",
        "outputId": "f131bd65-7e07-4280-8b3a-bbddf8c11da0"
      },
      "execution_count": null,
      "outputs": [
        {
          "output_type": "execute_result",
          "data": {
            "text/plain": [
              "'34'"
            ],
            "application/vnd.google.colaboratory.intrinsic+json": {
              "type": "string"
            }
          },
          "metadata": {},
          "execution_count": 80
        }
      ]
    },
    {
      "cell_type": "code",
      "source": [
        "ciag_liczbowy[0:4:3]"
      ],
      "metadata": {
        "colab": {
          "base_uri": "https://localhost:8080/",
          "height": 35
        },
        "id": "0boMSNgtpH19",
        "outputId": "b3153cd6-3752-4eab-a21e-cf5616cd4b41"
      },
      "execution_count": null,
      "outputs": [
        {
          "output_type": "execute_result",
          "data": {
            "text/plain": [
              "'14'"
            ],
            "application/vnd.google.colaboratory.intrinsic+json": {
              "type": "string"
            }
          },
          "metadata": {},
          "execution_count": 88
        }
      ]
    },
    {
      "cell_type": "code",
      "source": [
        "#1 2 3 4 5\n",
        "#0 1 2 3 4 5"
      ],
      "metadata": {
        "id": "PuB3RpSGpp8d"
      },
      "execution_count": null,
      "outputs": []
    },
    {
      "cell_type": "code",
      "source": [
        "ciag_liczbowy[2:5]"
      ],
      "metadata": {
        "colab": {
          "base_uri": "https://localhost:8080/",
          "height": 35
        },
        "id": "lZrlJEWtpko5",
        "outputId": "38cdcd39-3499-4e7b-d0e3-9317f7f68f6b"
      },
      "execution_count": null,
      "outputs": [
        {
          "output_type": "execute_result",
          "data": {
            "text/plain": [
              "'345'"
            ],
            "application/vnd.google.colaboratory.intrinsic+json": {
              "type": "string"
            }
          },
          "metadata": {},
          "execution_count": 92
        }
      ]
    },
    {
      "cell_type": "code",
      "source": [
        "#Metody\n",
        "\n",
        "#W pythonie mamy dwa typy poleceń:\n",
        "#1 funkcje - print()\n",
        "#2 metody\n",
        "\n",
        "#Metody są ściśle związane z typem obiektu na którym ich używamy\n",
        "\n",
        "napis = \"kotek\""
      ],
      "metadata": {
        "id": "-6eFs-Q_p6Ww"
      },
      "execution_count": null,
      "outputs": []
    },
    {
      "cell_type": "code",
      "source": [
        "print(napis)"
      ],
      "metadata": {
        "colab": {
          "base_uri": "https://localhost:8080/"
        },
        "id": "eoAZQOKdqpXs",
        "outputId": "04c4487f-047f-4c56-f351-65e0a7a0a6ee"
      },
      "execution_count": null,
      "outputs": [
        {
          "output_type": "stream",
          "name": "stdout",
          "text": [
            "kotek\n"
          ]
        }
      ]
    },
    {
      "cell_type": "code",
      "source": [
        "napis.upper() #to jest tylko użycie metody (wyprintowanie) bez napidsania zmiennej i jej wartośsci"
      ],
      "metadata": {
        "colab": {
          "base_uri": "https://localhost:8080/",
          "height": 35
        },
        "id": "PRuDsPmwqvGF",
        "outputId": "456eb98c-4064-4441-86c5-321fafcdf3df"
      },
      "execution_count": null,
      "outputs": [
        {
          "output_type": "execute_result",
          "data": {
            "text/plain": [
              "'KOTEK'"
            ],
            "application/vnd.google.colaboratory.intrinsic+json": {
              "type": "string"
            }
          },
          "metadata": {},
          "execution_count": 100
        }
      ]
    },
    {
      "cell_type": "code",
      "source": [
        "print(napis)"
      ],
      "metadata": {
        "colab": {
          "base_uri": "https://localhost:8080/"
        },
        "id": "NWQ4bmzArJ5n",
        "outputId": "3ee9bd94-3a73-467e-e192-d3c899c0a358"
      },
      "execution_count": null,
      "outputs": [
        {
          "output_type": "stream",
          "name": "stdout",
          "text": [
            "kotek\n"
          ]
        }
      ]
    },
    {
      "cell_type": "code",
      "source": [
        "napis = napis.upper() #nadpisanie zmiennej"
      ],
      "metadata": {
        "id": "LUyflThiraxd"
      },
      "execution_count": null,
      "outputs": []
    },
    {
      "cell_type": "code",
      "source": [
        "print(napis)"
      ],
      "metadata": {
        "colab": {
          "base_uri": "https://localhost:8080/"
        },
        "id": "dDr5sw-VrdjG",
        "outputId": "506bb9d1-4bc8-4ef3-fba0-69a782fba72d"
      },
      "execution_count": null,
      "outputs": [
        {
          "output_type": "stream",
          "name": "stdout",
          "text": [
            "KOTEK\n"
          ]
        }
      ]
    },
    {
      "cell_type": "code",
      "source": [
        "napis = napis.lower()"
      ],
      "metadata": {
        "id": "SuZMAoNJrwPA"
      },
      "execution_count": null,
      "outputs": []
    },
    {
      "cell_type": "code",
      "source": [
        "napis"
      ],
      "metadata": {
        "colab": {
          "base_uri": "https://localhost:8080/",
          "height": 35
        },
        "id": "DLkvL7vDr2Sw",
        "outputId": "b1dcd05b-bb79-427c-e3c2-66c44c05ac76"
      },
      "execution_count": null,
      "outputs": [
        {
          "output_type": "execute_result",
          "data": {
            "text/plain": [
              "'kotek'"
            ],
            "application/vnd.google.colaboratory.intrinsic+json": {
              "type": "string"
            }
          },
          "metadata": {},
          "execution_count": 110
        }
      ]
    },
    {
      "cell_type": "code",
      "source": [
        "napis.find(\"kot\")"
      ],
      "metadata": {
        "colab": {
          "base_uri": "https://localhost:8080/"
        },
        "id": "0kodVVebr_1W",
        "outputId": "998aa933-9bab-4cf5-c5a6-a985f67d0e00"
      },
      "execution_count": null,
      "outputs": [
        {
          "output_type": "execute_result",
          "data": {
            "text/plain": [
              "0"
            ]
          },
          "metadata": {},
          "execution_count": 116
        }
      ]
    },
    {
      "cell_type": "code",
      "source": [
        "napis.replace(\"kot\", \"pies\")"
      ],
      "metadata": {
        "colab": {
          "base_uri": "https://localhost:8080/",
          "height": 35
        },
        "id": "L0AxHLBts-_9",
        "outputId": "2d120d0a-aa05-4fcb-d77a-f8c4143006e3"
      },
      "execution_count": null,
      "outputs": [
        {
          "output_type": "execute_result",
          "data": {
            "text/plain": [
              "'piesek'"
            ],
            "application/vnd.google.colaboratory.intrinsic+json": {
              "type": "string"
            }
          },
          "metadata": {},
          "execution_count": 119
        }
      ]
    },
    {
      "cell_type": "code",
      "source": [
        "napis"
      ],
      "metadata": {
        "colab": {
          "base_uri": "https://localhost:8080/",
          "height": 35
        },
        "id": "Fajq4_b9tXbd",
        "outputId": "cab56b7a-0a46-47b3-a648-6c9a15a9e082"
      },
      "execution_count": null,
      "outputs": [
        {
          "output_type": "execute_result",
          "data": {
            "text/plain": [
              "'kotek'"
            ],
            "application/vnd.google.colaboratory.intrinsic+json": {
              "type": "string"
            }
          },
          "metadata": {},
          "execution_count": 120
        }
      ]
    }
  ]
}